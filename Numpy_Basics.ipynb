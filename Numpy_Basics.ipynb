{
  "nbformat": 4,
  "nbformat_minor": 0,
  "metadata": {
    "colab": {
      "provenance": [],
      "include_colab_link": true
    },
    "kernelspec": {
      "name": "python3",
      "display_name": "Python 3"
    },
    "language_info": {
      "name": "python"
    }
  },
  "cells": [
    {
      "cell_type": "markdown",
      "metadata": {
        "id": "view-in-github",
        "colab_type": "text"
      },
      "source": [
        "<a href=\"https://colab.research.google.com/github/harshaanth/python-coding-exercises/blob/main/Numpy_Basics.ipynb\" target=\"_parent\"><img src=\"https://colab.research.google.com/assets/colab-badge.svg\" alt=\"Open In Colab\"/></a>"
      ]
    },
    {
      "cell_type": "markdown",
      "source": [
        "# Numpy Basics\n",
        "These exercises are designed to reinforce the principles and methods introduced in the Introduction to Python DataCamp course. The numpy array is an important data object in Python and is used frequently to organize and work with data sets."
      ],
      "metadata": {
        "id": "9nzsye0x-qMY"
      }
    },
    {
      "cell_type": "markdown",
      "source": [
        "Create a variable called `baseball`, a list of lists each of which has a height in cm and a weight in kg"
      ],
      "metadata": {
        "id": "mYyYM6iA-p80"
      }
    },
    {
      "cell_type": "code",
      "execution_count": null,
      "metadata": {
        "id": "MiyNPPm_-k2K"
      },
      "outputs": [],
      "source": [
        "# Create baseball, a list of lists each of which has a height in cm and a weight in kg\n",
        "baseball = [[185, 78.4],\n",
        "            [191, 102.7],\n",
        "            [189, 98.5],\n",
        "            [183, 85.2]]"
      ]
    },
    {
      "cell_type": "markdown",
      "source": [
        "Import the `numpy` library"
      ],
      "metadata": {
        "id": "Lb-o81RO-uJQ"
      }
    },
    {
      "cell_type": "code",
      "source": [
        "# Import numpy\n",
        "import numpy as np"
      ],
      "metadata": {
        "id": "HV-uZFN4-usL"
      },
      "execution_count": null,
      "outputs": []
    },
    {
      "cell_type": "markdown",
      "source": [
        "Create a 2D numpy array from baseball: np_baseball and print the result"
      ],
      "metadata": {
        "id": "gFxndx82-vOh"
      }
    },
    {
      "cell_type": "code",
      "source": [
        "# Create a 2D numpy array from baseball: np_baseball and print the result\n",
        "np_baseball=np.array(baseball)\n",
        "print(np_baseball)"
      ],
      "metadata": {
        "colab": {
          "base_uri": "https://localhost:8080/"
        },
        "id": "cpbfAnO4-vqo",
        "outputId": "16ab9a58-571e-4f52-9291-48dc2562746a"
      },
      "execution_count": null,
      "outputs": [
        {
          "output_type": "stream",
          "name": "stdout",
          "text": [
            "[[185.   78.4]\n",
            " [191.  102.7]\n",
            " [189.   98.5]\n",
            " [183.   85.2]]\n"
          ]
        }
      ]
    },
    {
      "cell_type": "markdown",
      "source": [
        "Expected Output\n",
        "```\n",
        "[[185.   78.4]\n",
        " [191.  102.7]\n",
        " [189.   98.5]\n",
        " [183.   85.2]]\n",
        "```"
      ],
      "metadata": {
        "id": "MC5zdtfoBcMy"
      }
    },
    {
      "cell_type": "markdown",
      "source": [
        "Print out the type of np_baseball"
      ],
      "metadata": {
        "id": "UHScLnDr-1rg"
      }
    },
    {
      "cell_type": "code",
      "source": [
        "# Print out the type of np_baseball\n",
        "print(type(np_baseball))"
      ],
      "metadata": {
        "colab": {
          "base_uri": "https://localhost:8080/"
        },
        "id": "zAU6cbHG-2He",
        "outputId": "1188f917-eefc-4d22-a6ad-81d1ee6b1944"
      },
      "execution_count": null,
      "outputs": [
        {
          "output_type": "stream",
          "name": "stdout",
          "text": [
            "<class 'numpy.ndarray'>\n"
          ]
        }
      ]
    },
    {
      "cell_type": "markdown",
      "source": [
        "Expected Output\n",
        "```\n",
        "<class 'numpy.ndarray'>\n",
        "```"
      ],
      "metadata": {
        "id": "6TV7bR4pBhwL"
      }
    },
    {
      "cell_type": "markdown",
      "source": [
        "Print out the dimensions of the `np_baseball` array."
      ],
      "metadata": {
        "id": "_Dbf1Sn3-2s0"
      }
    },
    {
      "cell_type": "code",
      "source": [
        "# Print out the shape of np_baseball\n",
        "print(np_baseball.shape)"
      ],
      "metadata": {
        "colab": {
          "base_uri": "https://localhost:8080/"
        },
        "id": "1X3HdTbi-3PQ",
        "outputId": "70fb67c6-da25-49f7-eb96-d6dbe7934c44"
      },
      "execution_count": null,
      "outputs": [
        {
          "output_type": "stream",
          "name": "stdout",
          "text": [
            "(4, 2)\n"
          ]
        }
      ]
    },
    {
      "cell_type": "markdown",
      "source": [
        "Expected Output\n",
        "```\n",
        "(4, 2)\n",
        "```"
      ],
      "metadata": {
        "id": "IfMfeRpHBoJI"
      }
    },
    {
      "cell_type": "markdown",
      "source": [
        "Print out the third row of the baseball array"
      ],
      "metadata": {
        "id": "Abir9tC4-94N"
      }
    },
    {
      "cell_type": "code",
      "source": [
        "# Print out the third row of the baseball array\n",
        "print(np_baseball[2,:])"
      ],
      "metadata": {
        "colab": {
          "base_uri": "https://localhost:8080/"
        },
        "id": "e8FpOv9B--Yp",
        "outputId": "0764ec8c-35e7-4d7d-e9ef-4129fc29922d"
      },
      "execution_count": null,
      "outputs": [
        {
          "output_type": "stream",
          "name": "stdout",
          "text": [
            "[189.   98.5]\n"
          ]
        }
      ]
    },
    {
      "cell_type": "markdown",
      "source": [
        "Expected Output\n",
        "```\n",
        "[189.   98.5]\n",
        "```"
      ],
      "metadata": {
        "id": "719svelyBvaQ"
      }
    },
    {
      "cell_type": "markdown",
      "source": [
        "Print out the second column of the baseball array"
      ],
      "metadata": {
        "id": "CZKtaWuY--7V"
      }
    },
    {
      "cell_type": "code",
      "source": [
        "# Print out the second column of the baseball array\n",
        "print(np_baseball[:,1])"
      ],
      "metadata": {
        "colab": {
          "base_uri": "https://localhost:8080/"
        },
        "id": "p14uBsLt-_Xn",
        "outputId": "781c5f05-51ef-41d1-d331-d1fd67bf73bf"
      },
      "execution_count": null,
      "outputs": [
        {
          "output_type": "stream",
          "name": "stdout",
          "text": [
            "[ 78.4 102.7  98.5  85.2]\n"
          ]
        }
      ]
    },
    {
      "cell_type": "markdown",
      "source": [
        "Expected Output\n",
        "```\n",
        "[ 78.4 102.7  98.5  85.2]\n",
        "```"
      ],
      "metadata": {
        "id": "VoouB1prB15K"
      }
    },
    {
      "cell_type": "markdown",
      "source": [
        "Print out the weight of the third player (98.5)"
      ],
      "metadata": {
        "id": "4sMkhIo9_0x3"
      }
    },
    {
      "cell_type": "code",
      "source": [
        "# Print out the weight of the third player (98.5)\n",
        "print(np_baseball[2,1])"
      ],
      "metadata": {
        "colab": {
          "base_uri": "https://localhost:8080/"
        },
        "id": "IKm-gZfv_1OR",
        "outputId": "6d25ecc6-f59c-458e-fc42-681422d14a35"
      },
      "execution_count": null,
      "outputs": [
        {
          "output_type": "stream",
          "name": "stdout",
          "text": [
            "98.5\n"
          ]
        }
      ]
    },
    {
      "cell_type": "markdown",
      "source": [
        "Expected Output\n",
        "```\n",
        "98.5\n",
        "```"
      ],
      "metadata": {
        "id": "FasjU8MKB7mq"
      }
    },
    {
      "cell_type": "markdown",
      "source": [
        "Create numpy array: conversion and print the result"
      ],
      "metadata": {
        "id": "6BMOVnzZ_13G"
      }
    },
    {
      "cell_type": "code",
      "source": [
        "# Create numpy array: conversion\n",
        "conversion=np.array([.394, 2.204])\n",
        "print(conversion)"
      ],
      "metadata": {
        "colab": {
          "base_uri": "https://localhost:8080/"
        },
        "id": "0npmSJE6_2S8",
        "outputId": "03822708-cb23-4bab-92e2-234caf970c2f"
      },
      "execution_count": null,
      "outputs": [
        {
          "output_type": "stream",
          "name": "stdout",
          "text": [
            "[0.394 2.204]\n"
          ]
        }
      ]
    },
    {
      "cell_type": "markdown",
      "source": [
        "Expected Output\n",
        "```\n",
        "[0.394 2.204]\n",
        "```"
      ],
      "metadata": {
        "id": "0GCQmsqyCGjX"
      }
    },
    {
      "cell_type": "markdown",
      "source": [
        "Print out product of np_baseball and conversion"
      ],
      "metadata": {
        "id": "GJnNgH_l_7uf"
      }
    },
    {
      "cell_type": "code",
      "source": [
        "# Print out product of np_baseball and conversion\n",
        "print(np_baseball*conversion)"
      ],
      "metadata": {
        "colab": {
          "base_uri": "https://localhost:8080/"
        },
        "id": "daQAJzKM_8Nz",
        "outputId": "6a0d6d83-1cb7-495f-f9dc-4bf6003677b2"
      },
      "execution_count": null,
      "outputs": [
        {
          "output_type": "stream",
          "name": "stdout",
          "text": [
            "[[ 72.89   172.7936]\n",
            " [ 75.254  226.3508]\n",
            " [ 74.466  217.094 ]\n",
            " [ 72.102  187.7808]]\n"
          ]
        }
      ]
    },
    {
      "cell_type": "markdown",
      "source": [
        "Expected Output\n",
        "```\n",
        "[[ 72.89   172.7936]\n",
        " [ 75.254  226.3508]\n",
        " [ 74.466  217.094 ]\n",
        " [ 72.102  187.7808]]\n",
        "```"
      ],
      "metadata": {
        "id": "K9rNi2_xCLZV"
      }
    }
  ]
}