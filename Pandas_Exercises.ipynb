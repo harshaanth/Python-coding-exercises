{
  "nbformat": 4,
  "nbformat_minor": 0,
  "metadata": {
    "colab": {
      "provenance": [],
      "include_colab_link": true
    },
    "kernelspec": {
      "name": "python3",
      "display_name": "Python 3"
    },
    "language_info": {
      "name": "python"
    }
  },
  "cells": [
    {
      "cell_type": "markdown",
      "metadata": {
        "id": "view-in-github",
        "colab_type": "text"
      },
      "source": [
        "<a href=\"https://colab.research.google.com/github/harshaanth/python-coding-exercises/blob/main/Pandas_Exercises.ipynb\" target=\"_parent\"><img src=\"https://colab.research.google.com/assets/colab-badge.svg\" alt=\"Open In Colab\"/></a>"
      ]
    },
    {
      "cell_type": "markdown",
      "source": [
        "# Pandas Exercises\n",
        "We have seen a few ways to organize and work with data sets in Python. We will now explore one more. These exercises are designed to help you build familiarity with Pandas Data Frames, their features and functions."
      ],
      "metadata": {
        "id": "AQ7dv19cH4R3"
      }
    },
    {
      "cell_type": "markdown",
      "source": [
        "Import the pandas library with the alias pd"
      ],
      "metadata": {
        "id": "adqQtwZpH4AR"
      }
    },
    {
      "cell_type": "code",
      "execution_count": null,
      "metadata": {
        "id": "3YgdhjS8H3Ub"
      },
      "outputs": [],
      "source": [
        "# import the pandas library with the alias pd\n",
        "import pandas as pd"
      ]
    },
    {
      "cell_type": "markdown",
      "source": [
        "Define a list of car models."
      ],
      "metadata": {
        "id": "Oi0LMOz3H5Yu"
      }
    },
    {
      "cell_type": "code",
      "source": [
        "# Car models\n",
        "models=[\"Tesla3\",\"TeslaS\",\"TeslaX\",\"Bolt\",\"Leaf\",\"BMW_i3\",\"e-Golf\"]"
      ],
      "metadata": {
        "id": "nH83uz2uH5yM"
      },
      "execution_count": null,
      "outputs": []
    },
    {
      "cell_type": "markdown",
      "source": [
        "Define a list containing the 3 year total sales in thousands of units"
      ],
      "metadata": {
        "id": "KrbWlnoYH6du"
      }
    },
    {
      "cell_type": "code",
      "source": [
        "# 3 year total sales in thousands of units\n",
        "total_sales=[296, 67, 67, 58, 38, 17, 10]"
      ],
      "metadata": {
        "id": "_STnmACiH66q"
      },
      "execution_count": null,
      "outputs": []
    },
    {
      "cell_type": "markdown",
      "source": [
        "Define a list of typical retail prices in thousands of US dollars."
      ],
      "metadata": {
        "id": "-bzqgvGYH7l-"
      }
    },
    {
      "cell_type": "code",
      "source": [
        "# Typical Retail Price in $thousands USD\n",
        "price=[47, 89, 99, 32, 27, 83, 45]"
      ],
      "metadata": {
        "id": "EnRWynVmH8KK"
      },
      "execution_count": null,
      "outputs": []
    },
    {
      "cell_type": "markdown",
      "source": [
        "Create a pandas data frame with column names \"Model\", \"Sales\", and \"Price\". Print the result."
      ],
      "metadata": {
        "id": "vXH-bjxZH8nR"
      }
    },
    {
      "cell_type": "code",
      "source": [
        "e_cars=pd.DataFrame({\"Model\": models,\n",
        "                     \"Sales\": total_sales,\n",
        "                     \"Price\": price})\n",
        "\n",
        "# Print the data frame\n",
        "print(e_cars)"
      ],
      "metadata": {
        "colab": {
          "base_uri": "https://localhost:8080/"
        },
        "id": "2PCZLCIgH9IN",
        "outputId": "95b5974e-9381-4dba-dad2-c9995c387366"
      },
      "execution_count": null,
      "outputs": [
        {
          "output_type": "stream",
          "name": "stdout",
          "text": [
            "    Model  Sales  Price\n",
            "0  Tesla3    296     47\n",
            "1  TeslaS     67     89\n",
            "2  TeslaX     67     99\n",
            "3    Bolt     58     32\n",
            "4    Leaf     38     27\n",
            "5  BMW_i3     17     83\n",
            "6  e-Golf     10     45\n"
          ]
        }
      ]
    },
    {
      "cell_type": "markdown",
      "source": [
        "Expected Output\n",
        "```\n",
        "    Model  Sales  Price\n",
        "0  Tesla3    296     47\n",
        "1  TeslaS     67     89\n",
        "2  TeslaX     67     99\n",
        "3    Bolt     58     32\n",
        "4    Leaf     38     27\n",
        "5  BMW_i3     17     83\n",
        "6  e-Golf     10     45\n",
        "```"
      ],
      "metadata": {
        "id": "dhMbm34tMMgU"
      }
    },
    {
      "cell_type": "markdown",
      "source": [
        "### Exploring the Data Frame"
      ],
      "metadata": {
        "id": "u5CSgwv_H9nX"
      }
    },
    {
      "cell_type": "markdown",
      "source": [
        "Print the values of the `e_cars` data frame."
      ],
      "metadata": {
        "id": "9FJiUz2cJtPn"
      }
    },
    {
      "cell_type": "code",
      "source": [
        "# Print the values of e_cars\n",
        "print(e_cars.values)"
      ],
      "metadata": {
        "colab": {
          "base_uri": "https://localhost:8080/"
        },
        "id": "v5HfmpcdH-av",
        "outputId": "6530db01-61ef-4b06-d788-67062cbf1cc7"
      },
      "execution_count": null,
      "outputs": [
        {
          "output_type": "stream",
          "name": "stdout",
          "text": [
            "[['Tesla3' 296 47]\n",
            " ['TeslaS' 67 89]\n",
            " ['TeslaX' 67 99]\n",
            " ['Bolt' 58 32]\n",
            " ['Leaf' 38 27]\n",
            " ['BMW_i3' 17 83]\n",
            " ['e-Golf' 10 45]]\n"
          ]
        }
      ]
    },
    {
      "cell_type": "markdown",
      "source": [
        "Expected Output\n",
        "```\n",
        "[['Tesla3' 296 47]\n",
        " ['TeslaS' 67 89]\n",
        " ['TeslaX' 67 99]\n",
        " ['Bolt' 58 32]\n",
        " ['Leaf' 38 27]\n",
        " ['BMW_i3' 17 83]\n",
        " ['e-Golf' 10 45]]\n",
        "```"
      ],
      "metadata": {
        "id": "0LEQF4oEMR4Y"
      }
    },
    {
      "cell_type": "markdown",
      "source": [
        "Print the columns of the `e_cars` data frame."
      ],
      "metadata": {
        "id": "FXeV94w8Jyzi"
      }
    },
    {
      "cell_type": "code",
      "source": [
        "# Print the column index of e_cars\n",
        "print(e_cars.columns)"
      ],
      "metadata": {
        "colab": {
          "base_uri": "https://localhost:8080/"
        },
        "id": "7_E6J1inJzOJ",
        "outputId": "15b23b87-9ae8-4029-d69a-d6ba8be631ed"
      },
      "execution_count": null,
      "outputs": [
        {
          "output_type": "stream",
          "name": "stdout",
          "text": [
            "Index(['Model', 'Sales', 'Price'], dtype='object')\n"
          ]
        }
      ]
    },
    {
      "cell_type": "markdown",
      "source": [
        "Expected Output\n",
        "```\n",
        "Index(['Model', 'Sales', 'Price'], dtype='object')\n",
        "```"
      ],
      "metadata": {
        "id": "eOh8uaXQMWPI"
      }
    },
    {
      "cell_type": "markdown",
      "source": [
        "Print the rows of the `e_cars` data frame."
      ],
      "metadata": {
        "id": "QJ2xBj2uJz2C"
      }
    },
    {
      "cell_type": "code",
      "source": [
        "# Print the row index of e_cars\n",
        "print(e_cars.index)"
      ],
      "metadata": {
        "colab": {
          "base_uri": "https://localhost:8080/"
        },
        "id": "4eL8tEFsJ0bX",
        "outputId": "374b9a23-4e55-4174-952b-6ad109346d6f"
      },
      "execution_count": null,
      "outputs": [
        {
          "output_type": "stream",
          "name": "stdout",
          "text": [
            "RangeIndex(start=0, stop=7, step=1)\n"
          ]
        }
      ]
    },
    {
      "cell_type": "markdown",
      "source": [
        "Expected Output\n",
        "```\n",
        "RangeIndex(start=0, stop=7, step=1)\n",
        "```"
      ],
      "metadata": {
        "id": "8qTTRvl7Maz0"
      }
    },
    {
      "cell_type": "markdown",
      "source": [
        "### Accessing Values"
      ],
      "metadata": {
        "id": "9Ta6hPdMJ-Hm"
      }
    },
    {
      "cell_type": "markdown",
      "source": [
        "Print the `Sales` column."
      ],
      "metadata": {
        "id": "VXzjivQUJ95L"
      }
    },
    {
      "cell_type": "code",
      "source": [
        "# Print the 'Sales' column\n",
        "print(e_cars['Sales'])"
      ],
      "metadata": {
        "colab": {
          "base_uri": "https://localhost:8080/"
        },
        "id": "NrLDfNKFKCKz",
        "outputId": "b71b09d7-b0c7-4716-b28a-bfae6f0dc614"
      },
      "execution_count": null,
      "outputs": [
        {
          "output_type": "stream",
          "name": "stdout",
          "text": [
            "0    296\n",
            "1     67\n",
            "2     67\n",
            "3     58\n",
            "4     38\n",
            "5     17\n",
            "6     10\n",
            "Name: Sales, dtype: int64\n"
          ]
        }
      ]
    },
    {
      "cell_type": "markdown",
      "source": [
        "Expected Output\n",
        "```\n",
        "0    296\n",
        "1     67\n",
        "2     67\n",
        "3     58\n",
        "4     38\n",
        "5     17\n",
        "6     10\n",
        "Name: Sales, dtype: int64\n",
        "```"
      ],
      "metadata": {
        "id": "H7xTw_gvMcZb"
      }
    },
    {
      "cell_type": "markdown",
      "source": [
        "Filter for rows where Sales exceeds 50."
      ],
      "metadata": {
        "id": "6XdAdkBfKCvw"
      }
    },
    {
      "cell_type": "code",
      "source": [
        "# Filter for rows where Sales exceeds 50\n",
        "above_50 = e_cars[e_cars['Sales']>50]\n",
        "\n",
        "# See the result\n",
        "print(above_50)"
      ],
      "metadata": {
        "colab": {
          "base_uri": "https://localhost:8080/"
        },
        "id": "zeipmQqTKDIL",
        "outputId": "4b7705bb-643d-442f-c83a-58e6236a052d"
      },
      "execution_count": null,
      "outputs": [
        {
          "output_type": "stream",
          "name": "stdout",
          "text": [
            "    Model  Sales  Price\n",
            "0  Tesla3    296     47\n",
            "1  TeslaS     67     89\n",
            "2  TeslaX     67     99\n",
            "3    Bolt     58     32\n"
          ]
        }
      ]
    },
    {
      "cell_type": "markdown",
      "source": [
        "Expected Output\n",
        "```\n",
        "    Model  Sales  Price\n",
        "0  Tesla3    296     47\n",
        "1  TeslaS     67     89\n",
        "2  TeslaX     67     99\n",
        "3    Bolt     58     32\n",
        "```"
      ],
      "metadata": {
        "id": "-idiqdL0Mg4D"
      }
    },
    {
      "cell_type": "code",
      "source": [
        "# Filter for rows where Price is below 60\n",
        "below_60 = e_cars[e_cars['Price']<60]\n",
        "\n",
        "# See the result\n",
        "print(below_60)"
      ],
      "metadata": {
        "colab": {
          "base_uri": "https://localhost:8080/"
        },
        "id": "XBbYkn1qd713",
        "outputId": "b9208dcc-3641-411e-859f-5c422b25707c"
      },
      "execution_count": null,
      "outputs": [
        {
          "output_type": "stream",
          "name": "stdout",
          "text": [
            "    Model  Sales  Price\n",
            "0  Tesla3    296     47\n",
            "3    Bolt     58     32\n",
            "4    Leaf     38     27\n",
            "6  e-Golf     10     45\n"
          ]
        }
      ]
    },
    {
      "cell_type": "markdown",
      "source": [
        "### Creating Columns"
      ],
      "metadata": {
        "id": "Y_7jWcokKJX1"
      }
    },
    {
      "cell_type": "markdown",
      "source": [
        "Calculate the Revenue by multiplying the sales by the prices and add this as a new column to the `e_cars` data frame. Print the result."
      ],
      "metadata": {
        "id": "q7PeF6-FKPKu"
      }
    },
    {
      "cell_type": "code",
      "source": [
        "# Calculate the Revenue by multiplying the sales by the prices\n",
        "\n",
        "e_cars['Revenue']=e_cars['Sales']*e_cars['Price']\n",
        "\n",
        "# Print the data frame\n",
        "print(e_cars)"
      ],
      "metadata": {
        "colab": {
          "base_uri": "https://localhost:8080/"
        },
        "id": "o9xn2OftKJyG",
        "outputId": "e202b935-3c03-41c2-d3e4-1f4ffaf642d1"
      },
      "execution_count": null,
      "outputs": [
        {
          "output_type": "stream",
          "name": "stdout",
          "text": [
            "    Model  Sales  Price  Revenue\n",
            "0  Tesla3    296     47    13912\n",
            "1  TeslaS     67     89     5963\n",
            "2  TeslaX     67     99     6633\n",
            "3    Bolt     58     32     1856\n",
            "4    Leaf     38     27     1026\n",
            "5  BMW_i3     17     83     1411\n",
            "6  e-Golf     10     45      450\n"
          ]
        }
      ]
    },
    {
      "cell_type": "markdown",
      "source": [
        "Expected Output\n",
        "```\n",
        "    Model  Sales  Price  Revenue\n",
        "0  Tesla3    296     47    13912\n",
        "1  TeslaS     67     89     5963\n",
        "2  TeslaX     67     99     6633\n",
        "3    Bolt     58     32     1856\n",
        "4    Leaf     38     27     1026\n",
        "5  BMW_i3     17     83     1411\n",
        "6  e-Golf     10     45      450\n",
        "```"
      ],
      "metadata": {
        "id": "xzox6TRfMiNF"
      }
    }
  ]
}