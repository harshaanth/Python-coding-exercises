{
  "nbformat": 4,
  "nbformat_minor": 0,
  "metadata": {
    "colab": {
      "provenance": [],
      "include_colab_link": true
    },
    "kernelspec": {
      "name": "python3",
      "display_name": "Python 3"
    },
    "language_info": {
      "name": "python"
    }
  },
  "cells": [
    {
      "cell_type": "markdown",
      "metadata": {
        "id": "view-in-github",
        "colab_type": "text"
      },
      "source": [
        "<a href=\"https://colab.research.google.com/github/harshaanth/python-coding-exercises/blob/main/Coding_Exercises_Intro_Python.ipynb\" target=\"_parent\"><img src=\"https://colab.research.google.com/assets/colab-badge.svg\" alt=\"Open In Colab\"/></a>"
      ]
    },
    {
      "cell_type": "markdown",
      "source": [
        "## Guided Coding Exercises: Intro Python\n",
        "In these exercises, we will practice the methods covered in the DataCamp course, Introduction to Python. The application involves working with a small data set containing information about electric cars. The goal is to gain experience and confidence working with lists and numpy arrays, two popular tools for organizing information in Python."
      ],
      "metadata": {
        "id": "llRT4AKeuYen"
      }
    },
    {
      "cell_type": "markdown",
      "source": [
        "Here we define a list called `total_sales` to contain the models of electric cars and the number of units sold."
      ],
      "metadata": {
        "id": "gNpK_z1KtsDg"
      }
    },
    {
      "cell_type": "code",
      "execution_count": null,
      "metadata": {
        "colab": {
          "base_uri": "https://localhost:8080/"
        },
        "id": "yc81flSNtoKq",
        "outputId": "99a15812-9a6c-4341-93f0-9a17e3a1154c"
      },
      "outputs": [
        {
          "output_type": "stream",
          "name": "stdout",
          "text": [
            "['Tesla3', 296, 'TeslaS', 67, 'TeslaX', 67, 'Bolt', 58, 'Leaf', 38, 'BMW_i3', 17, 'e-Golf', 10]\n"
          ]
        }
      ],
      "source": [
        "# 3 year total sales in thousands of units\n",
        "total_sales=[\"Tesla3\",296, \"TeslaS\", 67, \"TeslaX\", 67, \"Bolt\", 58, \"Leaf\", 38, \"BMW_i3\", 17, \"e-Golf\", 10]\n",
        "\n",
        "print(total_sales)"
      ]
    },
    {
      "cell_type": "markdown",
      "source": [
        "Here we define a list called `price` to contain the typical retail price for each model in thousands of US dollars."
      ],
      "metadata": {
        "id": "ciwcnvumtzv9"
      }
    },
    {
      "cell_type": "code",
      "source": [
        "# Typical Retail Price in $thousands USD\n",
        "price=[\"Tesla3\", 47, \"TeslaS\", 89, \"TeslaX\", 99, \"Bolt\", 32, \"Leaf\", 27, \"BMW_i3\", 83, \"e-Golf\", 45]\n",
        "\n",
        "print(price)"
      ],
      "metadata": {
        "colab": {
          "base_uri": "https://localhost:8080/"
        },
        "id": "oEA4RYzrt0Qi",
        "outputId": "32932978-add1-4e62-b191-5b18c1b50220"
      },
      "execution_count": null,
      "outputs": [
        {
          "output_type": "stream",
          "name": "stdout",
          "text": [
            "['Tesla3', 47, 'TeslaS', 89, 'TeslaX', 99, 'Bolt', 32, 'Leaf', 27, 'BMW_i3', 83, 'e-Golf', 45]\n"
          ]
        }
      ]
    },
    {
      "cell_type": "markdown",
      "source": [
        "Use indexing to access the total sales for the TeslaS model."
      ],
      "metadata": {
        "id": "FqW3Raskt00P"
      }
    },
    {
      "cell_type": "code",
      "source": [
        "# Use indexing to access the total sales for the TeslaS model\n",
        "total_sales[3]"
      ],
      "metadata": {
        "colab": {
          "base_uri": "https://localhost:8080/"
        },
        "id": "FTtmM0I0t1cX",
        "outputId": "c89ece97-2b4b-40f9-b05f-7ab9d74e8fe6"
      },
      "execution_count": null,
      "outputs": [
        {
          "output_type": "execute_result",
          "data": {
            "text/plain": [
              "67"
            ]
          },
          "metadata": {},
          "execution_count": 5
        }
      ]
    },
    {
      "cell_type": "markdown",
      "source": [
        "Expected Output:\n",
        "```\n",
        "67\n",
        "```"
      ],
      "metadata": {
        "id": "bVmI9QgBy7QK"
      }
    },
    {
      "cell_type": "markdown",
      "source": [
        "Use indexing to access the last element in the price list."
      ],
      "metadata": {
        "id": "h3uGP8NIt93a"
      }
    },
    {
      "cell_type": "code",
      "source": [
        "# Use indexing to access the last element in the price list.\n",
        "price[-1]"
      ],
      "metadata": {
        "colab": {
          "base_uri": "https://localhost:8080/"
        },
        "id": "uS43Xx3Tt-Tx",
        "outputId": "a21275b7-f53f-4781-b6d9-72910b579e22"
      },
      "execution_count": null,
      "outputs": [
        {
          "output_type": "execute_result",
          "data": {
            "text/plain": [
              "45"
            ]
          },
          "metadata": {},
          "execution_count": 6
        }
      ]
    },
    {
      "cell_type": "markdown",
      "source": [
        "Expected Output:\n",
        "```\n",
        "45\n",
        "```"
      ],
      "metadata": {
        "id": "4qX4u27wzEff"
      }
    },
    {
      "cell_type": "markdown",
      "source": [
        "Multiply the TeslaS total sales by the TeslaS retail price (use indexing) call this value `TeslaS_revenue`.\n"
      ],
      "metadata": {
        "id": "aKuIi5dtuEsx"
      }
    },
    {
      "cell_type": "code",
      "source": [
        "# Multiply the TeslaS total sales by the TeslaS retail price (use indexing) call this value TeslaS_revenue\n",
        "TeslaS_revenue=total_sales[3]*price[3]\n",
        "print(TeslaS_revenue)"
      ],
      "metadata": {
        "colab": {
          "base_uri": "https://localhost:8080/"
        },
        "id": "3i0dJYTuuFV5",
        "outputId": "5287957c-4fbb-4020-9bc0-527fc740e0b4"
      },
      "execution_count": null,
      "outputs": [
        {
          "output_type": "stream",
          "name": "stdout",
          "text": [
            "5963\n"
          ]
        }
      ]
    },
    {
      "cell_type": "markdown",
      "source": [
        "Expected Output:\n",
        "```\n",
        "5963\n",
        "```"
      ],
      "metadata": {
        "id": "9HB6QH1ozJ9H"
      }
    },
    {
      "cell_type": "markdown",
      "source": [
        "Suppose we need to update the list with another electric car. Run the code below to define the new variables to store the model and the number of units sold, and the model and the price in thousands of US dollars.\n",
        "\n"
      ],
      "metadata": {
        "id": "n4lSB5CHuGNh"
      }
    },
    {
      "cell_type": "code",
      "source": [
        "# Fiat data\n",
        "fiat_total=[\"Fiat_500E\",6]\n",
        "fiat_price=[\"Fiat_500E\", 27]"
      ],
      "metadata": {
        "id": "SwDma65BuGpY"
      },
      "execution_count": null,
      "outputs": []
    },
    {
      "cell_type": "markdown",
      "source": [
        "Add the fiat total to the total_sales list"
      ],
      "metadata": {
        "id": "SY2GQQrouKaF"
      }
    },
    {
      "cell_type": "code",
      "source": [
        "# Add the fiat total to the total_sales list\n",
        "total_sales=total_sales+fiat_total\n",
        "print(total_sales)"
      ],
      "metadata": {
        "colab": {
          "base_uri": "https://localhost:8080/"
        },
        "id": "AIIDgunmuK1U",
        "outputId": "0e40a060-ebeb-4003-9ca1-683ab1d1d4e3"
      },
      "execution_count": null,
      "outputs": [
        {
          "output_type": "stream",
          "name": "stdout",
          "text": [
            "['Tesla3', 296, 'TeslaS', 67, 'TeslaX', 67, 'Bolt', 58, 'Leaf', 38, 'BMW_i3', 17, 'e-Golf', 10, 'Fiat_500E', 6]\n"
          ]
        }
      ]
    },
    {
      "cell_type": "markdown",
      "source": [
        "Expected Output:\n",
        "```\n",
        "['Tesla3', 296, 'TeslaS', 67, 'TeslaX', 67, 'Bolt', 58, 'Leaf', 38, 'BMW_i3', 17, 'e-Golf', 10, 'Fiat_500E', 6]\n",
        "```"
      ],
      "metadata": {
        "id": "c__M1EA9zW0W"
      }
    },
    {
      "cell_type": "markdown",
      "source": [
        "Add the fiat price to the price list."
      ],
      "metadata": {
        "id": "fZ8A4mP5uNlu"
      }
    },
    {
      "cell_type": "code",
      "source": [
        "# Add the fiat price to the price list\n",
        "price=price+fiat_price\n",
        "print(price)"
      ],
      "metadata": {
        "colab": {
          "base_uri": "https://localhost:8080/"
        },
        "id": "i8-L3_Z0uOJ-",
        "outputId": "c0d502ea-40cb-4989-d552-a8d649007ae5"
      },
      "execution_count": null,
      "outputs": [
        {
          "output_type": "stream",
          "name": "stdout",
          "text": [
            "['Tesla3', 47, 'TeslaS', 89, 'TeslaX', 99, 'Bolt', 32, 'Leaf', 27, 'BMW_i3', 83, 'e-Golf', 45, 'Fiat_500E', 27]\n"
          ]
        }
      ]
    },
    {
      "cell_type": "markdown",
      "source": [
        "Expected Output:\n",
        "```\n",
        "['Tesla3', 47, 'TeslaS', 89, 'TeslaX', 99, 'Bolt', 32, 'Leaf', 27, 'BMW_i3', 83, 'e-Golf', 45, 'Fiat_500E', 27]\n",
        "```"
      ],
      "metadata": {
        "id": "Ay4rJGTnznY4"
      }
    },
    {
      "cell_type": "markdown",
      "source": [
        "Use slicing and stepping to create a list of just the total sale values and another list of just the prices without the model names.\n"
      ],
      "metadata": {
        "id": "ZcGfcNmuuWyt"
      }
    },
    {
      "cell_type": "code",
      "source": [
        "# Use slicing and stepping to create a list of just the total sale values and another list of just the prices without the model names.\n",
        "\n",
        "total_sales_num=total_sales[1::2]\n",
        "print(total_sales_num)\n",
        "\n",
        "price_num=price[1::2]\n",
        "print(price_num)"
      ],
      "metadata": {
        "colab": {
          "base_uri": "https://localhost:8080/"
        },
        "id": "amh-S4bduXOT",
        "outputId": "14d33a74-7ff8-49fa-d997-a754a9de3221"
      },
      "execution_count": null,
      "outputs": [
        {
          "output_type": "stream",
          "name": "stdout",
          "text": [
            "[296, 67, 67, 58, 38, 17, 10, 6]\n",
            "[47, 89, 99, 32, 27, 83, 45, 27]\n"
          ]
        }
      ]
    },
    {
      "cell_type": "markdown",
      "source": [
        "Expected Output:\n",
        "```\n",
        "[296, 67, 67, 58, 38, 17, 10, 6]\n",
        "[47, 89, 99, 32, 27, 83, 45, 27]\n",
        "```"
      ],
      "metadata": {
        "id": "0lJYDHhOztvm"
      }
    },
    {
      "cell_type": "markdown",
      "source": [
        "Create a numpy array using the total sales values and the price values"
      ],
      "metadata": {
        "id": "q6Xrj2qJulfR"
      }
    },
    {
      "cell_type": "code",
      "source": [
        "# Create a numpy array using the total sales values and the price values\n",
        "\n",
        "import numpy as np\n",
        "e_cars=np.array([total_sales_num,price_num]).transpose()\n",
        "print(e_cars)"
      ],
      "metadata": {
        "colab": {
          "base_uri": "https://localhost:8080/"
        },
        "id": "PwHTpWNnum7k",
        "outputId": "ceeaf614-e536-48f5-851d-a2c5e03cf55a"
      },
      "execution_count": null,
      "outputs": [
        {
          "output_type": "stream",
          "name": "stdout",
          "text": [
            "[[296  47]\n",
            " [ 67  89]\n",
            " [ 67  99]\n",
            " [ 58  32]\n",
            " [ 38  27]\n",
            " [ 17  83]\n",
            " [ 10  45]\n",
            " [  6  27]]\n"
          ]
        }
      ]
    },
    {
      "cell_type": "markdown",
      "source": [
        "Expected Output:\n",
        "```\n",
        "[[296  47]\n",
        " [ 67  89]\n",
        " [ 67  99]\n",
        " [ 58  32]\n",
        " [ 38  27]\n",
        " [ 17  83]\n",
        " [ 10  45]\n",
        " [  6  27]]\n",
        "```"
      ],
      "metadata": {
        "id": "u4yx1l7Dz0Du"
      }
    },
    {
      "cell_type": "markdown",
      "source": [
        "Calculate all of the total revenue values"
      ],
      "metadata": {
        "id": "aiZ19txJuqCv"
      }
    },
    {
      "cell_type": "code",
      "source": [
        "# Calculate all of the total revenue values\n",
        "\n",
        "revenue=e_cars[:,0]*e_cars[:,1]\n",
        "print(revenue)"
      ],
      "metadata": {
        "colab": {
          "base_uri": "https://localhost:8080/"
        },
        "id": "VKZlWkLbuybM",
        "outputId": "64e68d01-2488-4739-8063-706b7b904dd8"
      },
      "execution_count": null,
      "outputs": [
        {
          "output_type": "stream",
          "name": "stdout",
          "text": [
            "[13912  5963  6633  1856  1026  1411   450   162]\n"
          ]
        }
      ]
    },
    {
      "cell_type": "markdown",
      "source": [
        "Expected Output:\n",
        "```\n",
        "[13912  5963  6633  1856  1026  1411   450   162]\n",
        "```"
      ],
      "metadata": {
        "id": "x2VzekQvz8A0"
      }
    }
  ]
}